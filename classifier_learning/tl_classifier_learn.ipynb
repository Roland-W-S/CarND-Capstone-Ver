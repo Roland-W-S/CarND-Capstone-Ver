{
 "cells": [
  {
   "cell_type": "markdown",
   "metadata": {},
   "source": [
    "Traddif light classifier learning"
   ]
  },
  {
   "cell_type": "code",
   "execution_count": 1,
   "metadata": {},
   "outputs": [],
   "source": [
    "import numpy as np\n",
    "import pandas as pd\n",
    "import tensorflow as tf\n",
    "import cv2\n",
    "import matplotlib.pyplot as plt"
   ]
  },
  {
   "cell_type": "code",
   "execution_count": 2,
   "metadata": {},
   "outputs": [],
   "source": [
    "#Load data list\n",
    "PATH_IMG_LIST_CSV=\"../ros/src/tl_detector/training_data/data.csv\"\n",
    "PATH_IMG_DIR=\"../ros/src/tl_detector\"\n",
    "img_list_csv=pd.read_csv(PATH_IMG_LIST_CSV,sep=',',header=None)\n",
    "cls=img_list_csv[1]\n",
    "filenames=img_list_csv[0]\n",
    "data_num=len(cls)"
   ]
  },
  {
   "cell_type": "code",
   "execution_count": 6,
   "metadata": {},
   "outputs": [
    {
     "data": {
      "text/plain": [
       "<matplotlib.image.AxesImage at 0x163bfb49be0>"
      ]
     },
     "execution_count": 6,
     "metadata": {},
     "output_type": "execute_result"
    },
    {
     "data": {
      "image/png": "[encoded data removed]",
      "text/plain": [
       "<Figure size 432x288 with 1 Axes>"
      ]
     },
     "metadata": {
      "needs_background": "light"
     },
     "output_type": "display_data"
    }
   ],
   "source": [
    "#Test resizing\n",
    "fn=filenames[726]\n",
    "image_bgr = cv2.imread(PATH_IMG_DIR+\"/\"+fn)\n",
    "image=cv2.cvtColor(image_bgr, cv2.COLOR_BGR2RGB)\n",
    "plt.imshow(image.astype(np.uint8))\n",
    "plt.imshow(cv2.resize(image,(32,32)).astype(np.uint8))"
   ]
  },
  {
   "cell_type": "code",
   "execution_count": 7,
   "metadata": {},
   "outputs": [],
   "source": [
    "#Parameters\n",
    "batch_size=32\n",
    "learning_rate=1e-4\n",
    "resized_width=32\n",
    "resized_height=32"
   ]
  },
  {
   "cell_type": "code",
   "execution_count": 8,
   "metadata": {},
   "outputs": [],
   "source": [
    "#Load images\n",
    "#resize 600,800->32,32\n",
    "\n",
    "data=np.zeros([filenames.shape[0],resized_height,resized_width,3])\n",
    "for i,fn in enumerate(filenames):\n",
    "    image_bgr = cv2.imread(PATH_IMG_DIR+\"/\"+fn)\n",
    "    image=cv2.cvtColor(image_bgr, cv2.COLOR_BGR2HSV)\n",
    "    data[i,:,:,:]=cv2.resize(image,(resized_height,resized_width))"
   ]
  },
  {
   "cell_type": "code",
   "execution_count": 9,
   "metadata": {},
   "outputs": [],
   "source": [
    "#Split data\n",
    "\n",
    "#Shuffle data\n",
    "np.random.seed(0)\n",
    "shuffle_idx=np.random.permutation(cls.shape[0])\n",
    "\n",
    "#Split data indices\n",
    "train_num=int(data_num*0.6)\n",
    "test_num=int(data_num*0.2)\n",
    "val_num=data_num-train_num-test_num\n",
    "train_idx=shuffle_idx[:train_num]\n",
    "test_idx=shuffle_idx[train_num:train_num+test_num]\n",
    "val_idx=shuffle_idx[train_num+test_num:]\n",
    "\n",
    "#Save indices\n",
    "np.savetxt(\"dataset_train.csv\",train_idx)\n",
    "np.savetxt(\"dataset_test.csv\",test_idx)\n",
    "np.savetxt(\"dataset_val.csv\",val_idx)\n",
    "\n",
    "#Split data\n",
    "train_cls=cls[train_idx]\n",
    "train_data=data[train_idx]\n",
    "test_cls=cls[test_idx]\n",
    "test_data=data[test_idx]\n",
    "val_cls=cls[val_idx]\n",
    "val_data=data[val_idx]"
   ]
  },
  {
   "cell_type": "code",
   "execution_count": 10,
   "metadata": {},
   "outputs": [],
   "source": [
    "#Define model\n",
    "\n",
    "#Input\n",
    "x_input_shape=(None,resized_width,resized_height,3)\n",
    "y_input_shape=(None,)\n",
    "x_input=tf.placeholder(tf.float32,shape=x_input_shape,name=\"x_input\")\n",
    "y_input=tf.placeholder(tf.int32,shape=y_input_shape,name=\"y_input\")\n",
    "y_input_onehot=tf.one_hot(y_input, depth=3, dtype=tf.float32)\n",
    "\n",
    "#conv 1\n",
    "#32*32 -> 32*32 *32\n",
    "conv1_w=tf.Variable(tf.truncated_normal([3,3,3,32]))\n",
    "conv1_b=tf.Variable(tf.truncated_normal([32]))\n",
    "\n",
    "conv1_c=tf.nn.conv2d(x_input,conv1_w,strides=[1,1,1,1], padding='SAME')+conv1_b\n",
    "conv1_a=tf.nn.relu(conv1_c)\n",
    "\n",
    "#pool 1\n",
    "#32*32*32-> 16*16*32\n",
    "pool1=tf.nn.max_pool(conv1_a, ksize=[1,2,2,1], strides=[1,2,2,1], padding='SAME')\n",
    "\n",
    "#conv 2\n",
    "#16*16*32 -> 16*16*64\n",
    "conv2_w=tf.Variable(tf.truncated_normal([3,3,32,64]))\n",
    "conv2_b=tf.Variable(tf.truncated_normal([64]))\n",
    "\n",
    "conv2_c=tf.nn.conv2d(pool1,conv2_w,strides=[1,1,1,1], padding='SAME')+conv2_b\n",
    "conv2_a=tf.nn.relu(conv2_c)\n",
    "\n",
    "#pool 1\n",
    "#16*16*64 -> 8*8*64\n",
    "pool2=tf.nn.max_pool(conv2_a, ksize=[1,2,2,1], strides=[1,2,2,1], padding='SAME')\n",
    "\n",
    "#fc\n",
    "#8*8*64 ->3\n",
    "fc1_w=tf.Variable(tf.truncated_normal([8*8*64,3]))\n",
    "fc1_b=tf.Variable(tf.truncated_normal([3]))\n",
    "\n",
    "fc1_in=tf.reshape(pool2,[-1,8*8*64])\n",
    "fc1_c=tf.matmul(fc1_in,fc1_w)+fc1_b\n",
    "\n",
    "#Prediction, accuracy\n",
    "cross_entropy = tf.reduce_mean(tf.nn.softmax_cross_entropy_with_logits(labels=y_input_onehot, logits=fc1_c))\n",
    "train_step = tf.train.AdamOptimizer(learning_rate).minimize(cross_entropy)\n",
    "prediction=tf.argmax(fc1_c, 1,name=\"prediction\")\n",
    "correct_prediction = tf.equal(prediction, tf.argmax(y_input_onehot, 1))\n",
    "accuracy = tf.reduce_mean(tf.cast(correct_prediction, tf.float32),name=\"accuracy\")"
   ]
  },
  {
   "cell_type": "code",
   "execution_count": 11,
   "metadata": {},
   "outputs": [
    {
     "name": "stdout",
     "output_type": "stream",
     "text": [
      "epoch 0, train acc 0.312500  test acc 0.418269\n",
      "epoch 20, train acc 0.781250  test acc 0.673077\n",
      "epoch 40, train acc 0.843750  test acc 0.750000\n",
      "epoch 60, train acc 0.781250  test acc 0.802885\n",
      "epoch 80, train acc 0.875000  test acc 0.831731\n",
      "epoch 100, train acc 0.968750  test acc 0.860577\n",
      "epoch 120, train acc 0.968750  test acc 0.884615\n",
      "epoch 140, train acc 1.000000  test acc 0.865385\n",
      "epoch 160, train acc 1.000000  test acc 0.908654\n",
      "epoch 180, train acc 0.968750  test acc 0.903846\n",
      "epoch 200, train acc 1.000000  test acc 0.937500\n",
      "epoch 220, train acc 1.000000  test acc 0.947115\n",
      "epoch 240, train acc 1.000000  test acc 0.947115\n",
      "epoch 260, train acc 1.000000  test acc 0.947115\n",
      "epoch 280, train acc 1.000000  test acc 0.947115\n",
      "epoch 300, train acc 1.000000  test acc 0.947115\n",
      "epoch 320, train acc 1.000000  test acc 0.947115\n",
      "epoch 340, train acc 1.000000  test acc 0.947115\n",
      "epoch 360, train acc 1.000000  test acc 0.947115\n",
      "epoch 380, train acc 1.000000  test acc 0.947115\n",
      "validation acc 0.933014\n"
     ]
    }
   ],
   "source": [
    "#Model test\n",
    "tf.set_random_seed(0)\n",
    "saver = tf.train.Saver()\n",
    "with tf.Session() as sess:\n",
    "    sess.run(tf.global_variables_initializer())\n",
    "    for j in range(400):\n",
    "        for i in range(int(train_data.shape[0]/batch_size)):\n",
    "            start_idx=i*batch_size\n",
    "            end_idx=min((i+1)*batch_size,data.shape[0]-1)\n",
    "            cur_x=train_data[start_idx:end_idx,:,:,:]\n",
    "            cur_y=train_cls[start_idx:end_idx]\n",
    "            train_step.run(feed_dict={x_input: cur_x, y_input: cur_y})\n",
    "        if j % 20==0:\n",
    "            train_accuracy=accuracy.eval(feed_dict={x_input: cur_x, y_input: cur_y})\n",
    "            test_accuracy=accuracy.eval(feed_dict={x_input: test_data, y_input: test_cls})\n",
    "            print('epoch %d, train acc %f  test acc %f' % (j, train_accuracy,test_accuracy))\n",
    "\n",
    "    print('validation acc %g' % accuracy.eval(feed_dict={x_input: val_data, y_input: val_cls}))"
   ]
  },
  {
   "cell_type": "code",
   "execution_count": 12,
   "metadata": {},
   "outputs": [
    {
     "name": "stdout",
     "output_type": "stream",
     "text": [
      "epoch 0, training accuracy 0\n",
      "epoch 20, training accuracy 0.03125\n",
      "epoch 40, training accuracy 0.21875\n",
      "epoch 60, training accuracy 0.3125\n",
      "epoch 80, training accuracy 0.40625\n",
      "epoch 100, training accuracy 0.625\n",
      "epoch 120, training accuracy 0.59375\n",
      "epoch 140, training accuracy 0.84375\n",
      "epoch 160, training accuracy 0.875\n",
      "epoch 180, training accuracy 0.875\n",
      "epoch 200, training accuracy 0.8125\n",
      "epoch 220, training accuracy 0.90625\n",
      "epoch 240, training accuracy 0.96875\n",
      "epoch 260, training accuracy 0.96875\n",
      "epoch 280, training accuracy 0.90625\n",
      "epoch 300, training accuracy 0.90625\n",
      "epoch 320, training accuracy 0.96875\n",
      "epoch 340, training accuracy 0.96875\n",
      "epoch 360, training accuracy 0.96875\n",
      "epoch 380, training accuracy 0.96875\n",
      "all data accuracy 1\n"
     ]
    }
   ],
   "source": [
    "#Training final model (using all data)\n",
    "tf.set_random_seed(0)\n",
    "with tf.Session() as sess:\n",
    "    sess.run(tf.global_variables_initializer())\n",
    "    count=0\n",
    "    for j in range(400):\n",
    "        for i in range(int(data.shape[0]/batch_size)):\n",
    "            count+=1\n",
    "            start_idx=i*batch_size\n",
    "            end_idx=min((i+1)*batch_size,data.shape[0]-1)\n",
    "            cur_x=data[start_idx:end_idx,:,:,:]\n",
    "            cur_y=cls[start_idx:end_idx]\n",
    "            train_step.run(feed_dict={x_input: cur_x, y_input: cur_y})\n",
    "        if j % 20==0:\n",
    "            train_accuracy = accuracy.eval(feed_dict={x_input: cur_x, y_input: cur_y})\n",
    "            print('epoch %d, training accuracy %g' % (j, train_accuracy))\n",
    "\n",
    "    print('all data accuracy %g' % accuracy.eval(feed_dict={x_input: data, y_input: cls}))\n",
    "    predicted_cls=prediction.eval(feed_dict={x_input: data})\n",
    "    \n",
    "    #Save model\n",
    "    save_path = saver.save(sess, \"./tl_classifier.ckpt\")"
   ]
  },
  {
   "cell_type": "code",
   "execution_count": 13,
   "metadata": {},
   "outputs": [
    {
     "name": "stdout",
     "output_type": "stream",
     "text": [
      "INFO:tensorflow:Restoring parameters from ./tl_classifier.ckpt\n",
      "all data accuracy 1\n"
     ]
    }
   ],
   "source": [
    "#Loading test\n",
    "with tf.Session() as sess:\n",
    "    saver = tf.train.import_meta_graph(\"tl_classifier.ckpt.meta\")\n",
    "    saver.restore(sess, \"./tl_classifier.ckpt\")\n",
    "    x_input=sess.graph.get_tensor_by_name(\"x_input:0\")\n",
    "    y_input=sess.graph.get_tensor_by_name(\"y_input:0\")\n",
    "    prediction=sess.graph.get_tensor_by_name(\"prediction:0\")\n",
    "    accuracy=sess.graph.get_tensor_by_name(\"accuracy:0\")\n",
    "    print('all data accuracy %g' % accuracy.eval(feed_dict={x_input: data.astype(np.float64), y_input: cls}))"
   ]
  },
  {
   "cell_type": "code",
   "execution_count": null,
   "metadata": {},
   "outputs": [],
   "source": []
  }
 ],
 "metadata": {
  "kernelspec": {
   "display_name": "Python 3",
   "language": "python",
   "name": "python3"
  },
  "language_info": {
   "codemirror_mode": {
    "name": "ipython",
    "version": 3
   },
   "file_extension": ".py",
   "mimetype": "text/x-python",
   "name": "python",
   "nbconvert_exporter": "python",
   "pygments_lexer": "ipython3",
   "version": "3.6.3"
  }
 },
 "nbformat": 4,
 "nbformat_minor": 2
}
